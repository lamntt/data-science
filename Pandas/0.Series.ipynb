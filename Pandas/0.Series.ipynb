{
 "cells": [
  {
   "cell_type": "code",
   "execution_count": 1,
   "id": "a5d39314",
   "metadata": {},
   "outputs": [],
   "source": [
    "import pandas as pd"
   ]
  },
  {
   "cell_type": "code",
   "execution_count": 2,
   "id": "1fc424c5",
   "metadata": {},
   "outputs": [],
   "source": [
    "my_index =  ['Jisoo','Jennie','Rose','Lisa']"
   ]
  },
  {
   "cell_type": "code",
   "execution_count": 3,
   "id": "40bc7dad",
   "metadata": {},
   "outputs": [],
   "source": [
    "my_data = ['Visual','Rapper','Vocal','Dancer']"
   ]
  },
  {
   "cell_type": "code",
   "execution_count": 4,
   "id": "010708ee",
   "metadata": {},
   "outputs": [],
   "source": [
    "black_pink = pd.Series(my_data,my_index)"
   ]
  },
  {
   "cell_type": "code",
   "execution_count": 5,
   "id": "fd0ff202",
   "metadata": {},
   "outputs": [
    {
     "data": {
      "text/plain": [
       "Jisoo     Visual\n",
       "Jennie    Rapper\n",
       "Rose       Vocal\n",
       "Lisa      Dancer\n",
       "dtype: object"
      ]
     },
     "execution_count": 5,
     "metadata": {},
     "output_type": "execute_result"
    }
   ],
   "source": [
    "black_pink"
   ]
  },
  {
   "cell_type": "code",
   "execution_count": 6,
   "id": "b42a2e84",
   "metadata": {},
   "outputs": [],
   "source": [
    "ages = {'Js':26,'Jn':25,'R':24,'Ls':24}"
   ]
  },
  {
   "cell_type": "code",
   "execution_count": 7,
   "id": "cfc0adfd",
   "metadata": {},
   "outputs": [
    {
     "data": {
      "text/plain": [
       "Js    26\n",
       "Jn    25\n",
       "R     24\n",
       "Ls    24\n",
       "dtype: int64"
      ]
     },
     "execution_count": 7,
     "metadata": {},
     "output_type": "execute_result"
    }
   ],
   "source": [
    "pd.Series(ages)"
   ]
  },
  {
   "cell_type": "code",
   "execution_count": 8,
   "id": "223cddcd",
   "metadata": {},
   "outputs": [],
   "source": [
    "q1 = {'Japan': 80, 'China': 450, 'India': 200, 'USA': 250}\n",
    "q2 = {'Brazil': 100,'China': 500, 'India': 210,'USA': 260}"
   ]
  },
  {
   "cell_type": "code",
   "execution_count": 9,
   "id": "3a0ee5cb",
   "metadata": {},
   "outputs": [],
   "source": [
    "q1_sale = pd.Series(q1)"
   ]
  },
  {
   "cell_type": "code",
   "execution_count": 10,
   "id": "92311a38",
   "metadata": {},
   "outputs": [],
   "source": [
    "q2_sale = pd.Series(q2)"
   ]
  },
  {
   "cell_type": "code",
   "execution_count": 11,
   "id": "c46b979a",
   "metadata": {},
   "outputs": [
    {
     "data": {
      "text/plain": [
       "Japan     80\n",
       "China    450\n",
       "India    200\n",
       "USA      250\n",
       "dtype: int64"
      ]
     },
     "execution_count": 11,
     "metadata": {},
     "output_type": "execute_result"
    }
   ],
   "source": [
    "q1_sale"
   ]
  },
  {
   "cell_type": "code",
   "execution_count": 12,
   "id": "d6dca425",
   "metadata": {},
   "outputs": [
    {
     "data": {
      "text/plain": [
       "Brazil    100\n",
       "China     500\n",
       "India     210\n",
       "USA       260\n",
       "dtype: int64"
      ]
     },
     "execution_count": 12,
     "metadata": {},
     "output_type": "execute_result"
    }
   ],
   "source": [
    "q2_sale"
   ]
  },
  {
   "cell_type": "code",
   "execution_count": 17,
   "id": "320f87b0",
   "metadata": {},
   "outputs": [],
   "source": [
    "total = pd.Series.add(q1_sale,q2_sale,fill_value=0)"
   ]
  },
  {
   "cell_type": "code",
   "execution_count": 18,
   "id": "367953c2",
   "metadata": {},
   "outputs": [
    {
     "data": {
      "text/plain": [
       "Brazil    100.0\n",
       "China     950.0\n",
       "India     410.0\n",
       "Japan      80.0\n",
       "USA       510.0\n",
       "dtype: float64"
      ]
     },
     "execution_count": 18,
     "metadata": {},
     "output_type": "execute_result"
    }
   ],
   "source": [
    "total"
   ]
  },
  {
   "cell_type": "code",
   "execution_count": 19,
   "id": "b38247ca",
   "metadata": {},
   "outputs": [
    {
     "data": {
      "text/plain": [
       "Japan    160\n",
       "China    900\n",
       "India    400\n",
       "USA      500\n",
       "dtype: int64"
      ]
     },
     "execution_count": 19,
     "metadata": {},
     "output_type": "execute_result"
    }
   ],
   "source": [
    "q1_sale*2"
   ]
  },
  {
   "cell_type": "code",
   "execution_count": 21,
   "id": "3438818f",
   "metadata": {},
   "outputs": [
    {
     "data": {
      "text/plain": [
       "Index(['Brazil', 'China', 'India', 'USA'], dtype='object')"
      ]
     },
     "execution_count": 21,
     "metadata": {},
     "output_type": "execute_result"
    }
   ],
   "source": [
    "q2_sale.keys()"
   ]
  },
  {
   "cell_type": "code",
   "execution_count": null,
   "id": "abc70c5b",
   "metadata": {},
   "outputs": [],
   "source": []
  }
 ],
 "metadata": {
  "kernelspec": {
   "display_name": "Python 3",
   "language": "python",
   "name": "python3"
  },
  "language_info": {
   "codemirror_mode": {
    "name": "ipython",
    "version": 3
   },
   "file_extension": ".py",
   "mimetype": "text/x-python",
   "name": "python",
   "nbconvert_exporter": "python",
   "pygments_lexer": "ipython3",
   "version": "3.8.8"
  }
 },
 "nbformat": 4,
 "nbformat_minor": 5
}
